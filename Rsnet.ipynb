{
  "nbformat": 4,
  "nbformat_minor": 0,
  "metadata": {
    "colab": {
      "provenance": [],
      "authorship_tag": "ABX9TyMOKyawTXYIzChtiLJaUJZI",
      "include_colab_link": true
    },
    "kernelspec": {
      "name": "python3",
      "display_name": "Python 3"
    },
    "language_info": {
      "name": "python"
    }
  },
  "cells": [
    {
      "cell_type": "markdown",
      "metadata": {
        "id": "view-in-github",
        "colab_type": "text"
      },
      "source": [
        "<a href=\"https://colab.research.google.com/github/B-mohith/Asian_vs_African_elephants/blob/main/Rsnet.ipynb\" target=\"_parent\"><img src=\"https://colab.research.google.com/assets/colab-badge.svg\" alt=\"Open In Colab\"/></a>"
      ]
    },
    {
      "cell_type": "code",
      "execution_count": 1,
      "metadata": {
        "id": "pNqRGkP7Te1e"
      },
      "outputs": [],
      "source": [
        "import numpy as np\n",
        "import pandas as pd\n",
        "import torch\n",
        "import matplotlib.pyplot as plt\n",
        "import torch.nn as nn\n",
        "from torch.utils.data import DataLoader\n",
        "import torchvision.transforms as transforms\n",
        "from torchvision.utils import make_grid\n",
        "from torchvision.datasets import ImageFolder\n",
        "import torchvision.models as models\n",
        "import torch.optim as optim\n",
        "from PIL import Image"
      ]
    },
    {
      "cell_type": "code",
      "source": [
        "from google.colab import drive\n",
        "drive.mount('/content/drive')"
      ],
      "metadata": {
        "colab": {
          "base_uri": "https://localhost:8080/"
        },
        "id": "T6jyGXNMrtxv",
        "outputId": "f76d3a29-8d88-4628-dff6-0bab5172f024"
      },
      "execution_count": 2,
      "outputs": [
        {
          "output_type": "stream",
          "name": "stdout",
          "text": [
            "Mounted at /content/drive\n"
          ]
        }
      ]
    },
    {
      "cell_type": "code",
      "source": [
        "train_dir = '/content/drive/MyDrive/dataset/train'\n",
        "test_dir = '/content/drive/MyDrive/dataset/test'"
      ],
      "metadata": {
        "id": "nIgMyQA0ns48"
      },
      "execution_count": 3,
      "outputs": []
    },
    {
      "cell_type": "code",
      "source": [
        "classes = ['african','asian']\n",
        "num_classes = len(classes)"
      ],
      "metadata": {
        "id": "ZZT0qVPnnuV2"
      },
      "execution_count": 4,
      "outputs": []
    },
    {
      "cell_type": "code",
      "source": [
        "b = 128\n",
        "train = ImageFolder(train_dir, transform= transforms.Compose([transforms.ToTensor(),\n",
        "                                                              transforms.Resize(32),\n",
        "        transforms.CenterCrop(32),]))\n",
        "test = ImageFolder(test_dir, transform= transforms.Compose([transforms.ToTensor(),\n",
        "                                                              transforms.Resize(32),\n",
        "        transforms.CenterCrop(32),]))\n",
        "trainloader = torch.utils.data.DataLoader(train, batch_size=b, shuffle=True)\n",
        "testloader = torch.utils.data.DataLoader(test, batch_size=b, shuffle=False)"
      ],
      "metadata": {
        "id": "5TmrnlHqnw4-"
      },
      "execution_count": 5,
      "outputs": []
    },
    {
      "cell_type": "code",
      "source": [
        "resnet = models.resnet18(pretrained = True)"
      ],
      "metadata": {
        "id": "YLiejbqYp2ym",
        "colab": {
          "base_uri": "https://localhost:8080/"
        },
        "outputId": "9321ba50-aba0-498e-ba90-bf0c49a678a5"
      },
      "execution_count": 6,
      "outputs": [
        {
          "output_type": "stream",
          "name": "stderr",
          "text": [
            "/usr/local/lib/python3.10/dist-packages/torchvision/models/_utils.py:208: UserWarning: The parameter 'pretrained' is deprecated since 0.13 and may be removed in the future, please use 'weights' instead.\n",
            "  warnings.warn(\n",
            "/usr/local/lib/python3.10/dist-packages/torchvision/models/_utils.py:223: UserWarning: Arguments other than a weight enum or `None` for 'weights' are deprecated since 0.13 and may be removed in the future. The current behavior is equivalent to passing `weights=ResNet18_Weights.IMAGENET1K_V1`. You can also use `weights=ResNet18_Weights.DEFAULT` to get the most up-to-date weights.\n",
            "  warnings.warn(msg)\n",
            "Downloading: \"https://download.pytorch.org/models/resnet18-f37072fd.pth\" to /root/.cache/torch/hub/checkpoints/resnet18-f37072fd.pth\n",
            "100%|██████████| 44.7M/44.7M [00:00<00:00, 114MB/s]\n"
          ]
        }
      ]
    },
    {
      "cell_type": "code",
      "source": [
        "loss_fn = nn.CrossEntropyLoss()\n",
        "opt = optim.Adam(resnet.parameters())"
      ],
      "metadata": {
        "id": "cLIIN02nn6rt"
      },
      "execution_count": 7,
      "outputs": []
    },
    {
      "cell_type": "code",
      "source": [
        "def evaluation(dataloader):\n",
        "    total, correct = 0, 0\n",
        "    for data in dataloader:\n",
        "        inputs, labels = data\n",
        "        outputs = resnet(inputs)\n",
        "        _, pred = torch.max(outputs.data, 1)\n",
        "        total += labels.size(0)\n",
        "        correct += (pred == labels).sum().item()\n",
        "    return 100 * correct / total"
      ],
      "metadata": {
        "id": "KR2NT4Q3oI6a"
      },
      "execution_count": 8,
      "outputs": []
    },
    {
      "cell_type": "code",
      "source": [
        "in_features = resnet.fc.in_features\n",
        "dropout_prob = 0.4\n",
        "resnet.fc = nn.Sequential(\n",
        "    nn.Linear(in_features, 512),\n",
        "    nn.ReLU(),\n",
        "    nn.Dropout(dropout_prob),\n",
        "    nn.Linear(512, num_classes)\n",
        ")"
      ],
      "metadata": {
        "id": "rF6sxQMXrOzD"
      },
      "execution_count": 9,
      "outputs": []
    },
    {
      "cell_type": "code",
      "source": [
        "loss_epoch_arr = []\n",
        "max_epochs = 5\n",
        "\n",
        "#n_iters = np.ceil(50000/b)\n",
        "\n",
        "for epoch in range(max_epochs):\n",
        "\n",
        "    for i, data in enumerate(trainloader, 0):\n",
        "\n",
        "        inputs, labels = data\n",
        "        #inputs, labels = inputs.to(device), labels.to(device)\n",
        "\n",
        "        opt.zero_grad()\n",
        "\n",
        "        outputs = resnet(inputs)\n",
        "        loss = loss_fn(outputs, labels)\n",
        "        loss.backward()\n",
        "        opt.step()\n",
        "\n",
        "    loss_epoch_arr.append(loss.item())\n",
        "\n",
        "    print('Epoch: %d/%d, Test acc: %0.2f, Train acc: %0.2f' % (\n",
        "        epoch, max_epochs,\n",
        "        evaluation(testloader), evaluation(trainloader)))\n",
        "\n",
        "\n",
        "plt.plot(loss_epoch_arr)\n",
        "plt.show()"
      ],
      "metadata": {
        "colab": {
          "base_uri": "https://localhost:8080/",
          "height": 517
        },
        "id": "j--eYA09rXFw",
        "outputId": "81b1b782-f9fc-45a9-846d-f43395f2028c"
      },
      "execution_count": 11,
      "outputs": [
        {
          "output_type": "stream",
          "name": "stdout",
          "text": [
            "Epoch: 0/5, Test acc: 69.68, Train acc: 93.93\n",
            "Epoch: 1/5, Test acc: 62.77, Train acc: 95.00\n",
            "Epoch: 2/5, Test acc: 65.96, Train acc: 93.69\n",
            "Epoch: 3/5, Test acc: 64.89, Train acc: 94.29\n",
            "Epoch: 4/5, Test acc: 63.83, Train acc: 95.00\n"
          ]
        },
        {
          "output_type": "display_data",
          "data": {
            "text/plain": [
              "<Figure size 640x480 with 1 Axes>"
            ],
            "image/png": "[encoded data removed]"
          },
          "metadata": {}
        }
      ]
    },
    {
      "cell_type": "code",
      "source": [
        "pic_dir = '/content/af_te9.jpg'\n",
        "pic_dir2 = '/content/asian.jpg'\n",
        "pic_dir3 = '/content/indian.jpg'"
      ],
      "metadata": {
        "id": "VEsME0k4vAW2"
      },
      "execution_count": null,
      "outputs": []
    },
    {
      "cell_type": "code",
      "source": [
        "def pre_image(image_path,model):\n",
        "   img = Image.open(image_path)\n",
        "   transform_norm = transforms.Compose([transforms.ToTensor(),\n",
        "   transforms.Resize((32,32)),])\n",
        "   # get normalized image\n",
        "   img_normalized = transform_norm(img).float()\n",
        "   img_normalized = img_normalized.unsqueeze_(0)\n",
        "   # print(img_normalized.shape)\n",
        "   with torch.no_grad():\n",
        "      model.eval()\n",
        "      output =model(img_normalized)\n",
        "     # print(output)\n",
        "      index = output.data.cpu().numpy().argmax()\n",
        "      class_name = classes[index]\n",
        "      return class_name"
      ],
      "metadata": {
        "id": "8Q1Un-7DwMUF"
      },
      "execution_count": null,
      "outputs": []
    },
    {
      "cell_type": "code",
      "source": [
        "prediction = pre_image(pic_dir,resnet)\n",
        "print(prediction)"
      ],
      "metadata": {
        "colab": {
          "base_uri": "https://localhost:8080/"
        },
        "id": "9cdsYyhtwqZr",
        "outputId": "b2caa814-2720-4515-ef01-de8f239277bf"
      },
      "execution_count": null,
      "outputs": [
        {
          "output_type": "stream",
          "name": "stdout",
          "text": [
            "african\n"
          ]
        }
      ]
    },
    {
      "cell_type": "code",
      "source": [
        "prediction = pre_image(pic_dir2,resnet)\n",
        "print(prediction)"
      ],
      "metadata": {
        "colab": {
          "base_uri": "https://localhost:8080/"
        },
        "id": "LsGVhNdExQR_",
        "outputId": "4a9c8ee8-0271-4f06-8af6-bc8d0e312556"
      },
      "execution_count": null,
      "outputs": [
        {
          "output_type": "stream",
          "name": "stdout",
          "text": [
            "asian\n"
          ]
        }
      ]
    }
  ]
}